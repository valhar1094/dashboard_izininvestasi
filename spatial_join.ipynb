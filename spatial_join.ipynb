{
 "cells": [
  {
   "cell_type": "code",
   "execution_count": 27,
   "metadata": {},
   "outputs": [],
   "source": [
    "import os\n",
    "import pandas as pd\n",
    "import geopandas as gpd\n",
    "import numpy as np\n",
    "import re\n",
    "from shapely.geometry import Point\n"
   ]
  },
  {
   "cell_type": "code",
   "execution_count": 28,
   "metadata": {},
   "outputs": [],
   "source": [
    "# Directory for path file\n",
    "directory = \"/Users/efishery/Documents/Statistics Coach/DPMPTSP/Database/dbt_playground/data/\"\n",
    "file_path = [os.path.join(directory, filename) for filename in os.listdir(directory) if filename.endswith('.xlsx')]\n",
    "\n",
    "# Direcotry for shp file\n",
    "shp_path = \"/Users/efishery/Documents/Statistics Coach/DPMPTSP/Database/dbt_playground/data_shp/gadm40_IDN_4.shp\"\n"
   ]
  },
  {
   "cell_type": "code",
   "execution_count": 33,
   "metadata": {},
   "outputs": [],
   "source": [
    "# Importing SHP file \n",
    "shp_kel = gpd.read_file(shp_path)"
   ]
  },
  {
   "cell_type": "code",
   "execution_count": 34,
   "metadata": {},
   "outputs": [],
   "source": [
    "# Adding empty list for inputting data from excel\n",
    "dt = []\n",
    "\n",
    "# Importing data investasi dan pengawasan\n",
    "for i in range(0,len(file_path)) :\n",
    "    dt_temp = pd.read_excel(file_path[i])\n",
    "    dt.append(dt_temp)\n",
    "\n",
    "# dt_ip = pd.concat(dt, ignore_index = True)"
   ]
  },
  {
   "cell_type": "code",
   "execution_count": null,
   "metadata": {},
   "outputs": [],
   "source": [
    "# Decluttering the data\n",
    "# ================================================================================================================================================================\n",
    "\n",
    "# 1st Error : Merapihkan data yang ga bisa di cek shp filenya\n",
    "# dt_ip['longitude'] = dt_ip['longitude'].apply(lambda x: np.nan if ',' in str(x) else x)\n",
    "# dt_ip['latitude'] = dt_ip['latitude'].apply(lambda x: np.nan if ',' in str(x) else x)\n",
    "\n",
    "# # # 2nd Error : Merapihkan data yang ga bisa di cek shp filenya\n",
    "# dt_ip['latitude'] = dt_ip['latitude'].apply(lambda x : np.nan if '--' in str(x) else x)\n",
    "\n",
    "# # # 3rd error : combined longlat data in one column\n",
    "# dt_ip['longitude'] = dt_ip['longitude'].apply(lambda x : np.nan if len(str(x)) > 20 else x)\n",
    "\n",
    "# # # 4th error : contains combined data with . error\n",
    "# dt_ip['longitude'] = dt_ip['longitude'].apply(lambda x : np.nan if str(x).count('.') > 1 else x)\n",
    "# dt_ip['latitude'] = dt_ip['latitude'].apply(lambda x : np.nan if str(x).count('.') > 1 else x)\n",
    "\n",
    "# # 5th error : theres S in latitude data\n",
    "# dt_ip['latitude'] = dt_ip['latitude'].apply(lambda x : np.nan if 'S' in str(x) else x)\n",
    "\n",
    "# # 5th error : theres wqw2wqw in longitude data\n",
    "# dt_ip['longitude'] = dt_ip['longitude'].apply(lambda x : np.nan if 'wqw' in str(x) else x)\n",
    "\n",
    "# 6th error : Mixed with certain character in longlat\n",
    "# dt_ip['longitude'] = dt_ip['longitude'].apply(lambda x : np.nan if bool(re.search(r'[a-zA-Z]', str(x))) else x)\n",
    "# dt_ip['latitude'] = dt_ip['latitude'].apply(lambda x : np.nan if bool(re.search(r'[a-zA-Z]', str(x))) else x)\n",
    "\n",
    "# 7th error : Mixed with degrees symbol\n",
    "# dt_ip['longitude'] = dt_ip['longitude'].apply(lambda x : np.nan if '°' in str(x) else x)\n",
    "# dt_ip['latitude'] = dt_ip['latitude'].apply(lambda x : np.nan if '°' in str(x) else x)\n",
    "\n",
    "# 8th error : Mixed with space in between\n",
    "# dt_ip['latitude'] = dt_ip['latitude'].apply(lambda x : str(x).replace(' ','') if ' ' in str(x) else x)\n",
    "\n",
    "# ================================================================================================================================================================\n",
    "# Data should be coerce in excel which keep the most longlat data than in phyton does"
   ]
  },
  {
   "cell_type": "code",
   "execution_count": 35,
   "metadata": {},
   "outputs": [],
   "source": [
    "# Menambahkan geometry point di setiap kotanya\n",
    "geo_dt = []\n",
    "\n",
    "for j in range(len(dt)) : \n",
    "    geom = [Point(xy) for xy in zip(dt[j]['longitude2'], dt[j]['latitude2'])]\n",
    "    geo_dt.append(gpd.GeoDataFrame(dt[j], geometry=geom))"
   ]
  },
  {
   "cell_type": "code",
   "execution_count": null,
   "metadata": {},
   "outputs": [],
   "source": [
    "# Dinamain setiap kotanya \n",
    "jaksel_ip = geo_dt[0]\n",
    "barat_ip = geo_dt[1]\n",
    "utara_ip = geo_dt[2]\n",
    "timur_ip = geo_dt[3]\n",
    "pusat_ip = geo_dt[4]\n",
    "\n",
    "jaksel_ip_join = gpd.sjoin(jaksel_ip, shp_kel, how = 'left', predicate = 'within')\n",
    "barat_ip_join = gpd.sjoin(barat_ip, shp_kel, how = 'left', predicate = 'within')\n",
    "utara_ip_join = gpd.sjoin(utara_ip, shp_kel, how = 'left', predicate = 'within')\n",
    "timur_ip_join = gpd.sjoin(timur_ip, shp_kel, how = 'left', predicate = 'within')\n",
    "pusat_ip_join = gpd.sjoin(pusat_ip, shp_kel, how = 'left', predicate = 'within')"
   ]
  },
  {
   "cell_type": "code",
   "execution_count": 37,
   "metadata": {},
   "outputs": [],
   "source": [
    "# spatial join yang bakal lama pisan deh pokoke\n",
    "jaksel_ip_join.to_excel(\"spatialjoin_jaksel_ip.xlsx\")\n",
    "barat_ip_join.to_excel(\"spatialjoin_barat_ip.xlsx\")\n",
    "utara_ip_join.to_excel(\"spatialjoin_utara_ip.xlsx\")\n",
    "timur_ip_join.to_excel(\"spatialjoin_timur_ip.xlsx\")\n",
    "pusat_ip_join.to_excel(\"spatialjoin_pusat_ip.xlsx\")"
   ]
  }
 ],
 "metadata": {
  "kernelspec": {
   "display_name": "Python 3",
   "language": "python",
   "name": "python3"
  },
  "language_info": {
   "codemirror_mode": {
    "name": "ipython",
    "version": 3
   },
   "file_extension": ".py",
   "mimetype": "text/x-python",
   "name": "python",
   "nbconvert_exporter": "python",
   "pygments_lexer": "ipython3",
   "version": "3.12.5"
  }
 },
 "nbformat": 4,
 "nbformat_minor": 2
}
